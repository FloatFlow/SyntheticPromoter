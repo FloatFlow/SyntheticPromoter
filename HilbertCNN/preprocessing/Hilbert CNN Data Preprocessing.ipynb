{
 "cells": [
  {
   "cell_type": "code",
   "execution_count": 6,
   "metadata": {},
   "outputs": [],
   "source": [
    "#Boilerplate imports\n",
    "import pandas as pd\n",
    "import numpy as np\n",
    "import random\n",
    "import scipy\n",
    "import itertools\n",
    "from collections import Counter\n",
    "from collections import defaultdict\n",
    "import functools\n",
    "import math\n",
    "from sklearn.model_selection import train_test_split"
   ]
  },
  {
   "cell_type": "code",
   "execution_count": 7,
   "metadata": {},
   "outputs": [
    {
     "data": {
      "text/html": [
       "<div>\n",
       "<style scoped>\n",
       "    .dataframe tbody tr th:only-of-type {\n",
       "        vertical-align: middle;\n",
       "    }\n",
       "\n",
       "    .dataframe tbody tr th {\n",
       "        vertical-align: top;\n",
       "    }\n",
       "\n",
       "    .dataframe thead th {\n",
       "        text-align: right;\n",
       "    }\n",
       "</style>\n",
       "<table border=\"1\" class=\"dataframe\">\n",
       "  <thead>\n",
       "    <tr style=\"text-align: right;\">\n",
       "      <th></th>\n",
       "      <th>sequence</th>\n",
       "    </tr>\n",
       "  </thead>\n",
       "  <tbody>\n",
       "    <tr>\n",
       "      <th>0</th>\n",
       "      <td>TCGATCTCCGCCCCCTCTTCGAAGATCAAAGGGTCGAGGGGACTTT...</td>\n",
       "    </tr>\n",
       "    <tr>\n",
       "      <th>1</th>\n",
       "      <td>TCGAATGAGTCACATCGAAGATCAAAGGGTCGACCCTTTGATCTTC...</td>\n",
       "    </tr>\n",
       "    <tr>\n",
       "      <th>2</th>\n",
       "      <td>TCGAGGGGACTTTCCTCGAGGGGGCGGGGTCGATTTGGCGCTCGAT...</td>\n",
       "    </tr>\n",
       "    <tr>\n",
       "      <th>3</th>\n",
       "      <td>TCGATTTCCAAGAAATCGAGGAAAGTCCCCTCGACCCTTTGATCTT...</td>\n",
       "    </tr>\n",
       "    <tr>\n",
       "      <th>4</th>\n",
       "      <td>TCGAATGACATCATCTTTCGAAGATCAAAGGGTCGAGGGGACTTTC...</td>\n",
       "    </tr>\n",
       "  </tbody>\n",
       "</table>\n",
       "</div>"
      ],
      "text/plain": [
       "                                            sequence\n",
       "0  TCGATCTCCGCCCCCTCTTCGAAGATCAAAGGGTCGAGGGGACTTT...\n",
       "1  TCGAATGAGTCACATCGAAGATCAAAGGGTCGACCCTTTGATCTTC...\n",
       "2  TCGAGGGGACTTTCCTCGAGGGGGCGGGGTCGATTTGGCGCTCGAT...\n",
       "3  TCGATTTCCAAGAAATCGAGGAAAGTCCCCTCGACCCTTTGATCTT...\n",
       "4  TCGAATGACATCATCTTTCGAAGATCAAAGGGTCGAGGGGACTTTC..."
      ]
     },
     "execution_count": 7,
     "metadata": {},
     "output_type": "execute_result"
    }
   ],
   "source": [
    "##Import data\n",
    "\n",
    "#file paths\n",
    "#low expression population\n",
    "raws1path = 'D:/Projects/iSynPro/SynPro/Complete Raw data for sorted cells/S1.fa.uniq.tcga.all.csv'\n",
    "raws3path = 'D:/Projects/iSynPro/SynPro/Complete Raw data for sorted cells/S3.fa.uniq.tcga.all.csv'\n",
    "raws5path = 'D:/Projects/iSynPro/SynPro/Complete Raw data for sorted cells/S5.fa.uniq.tcga.all.csv'\n",
    "#high expression population\n",
    "raws2path = 'D:/Projects/iSynPro/SynPro/Complete Raw data for sorted cells/S2.fa.uniq.tcga.all.csv'\n",
    "raws4path = 'D:/Projects/iSynPro/SynPro/Complete Raw data for sorted cells/S4.fa.uniq.tcga.all.csv'\n",
    "raws6path = 'D:/Projects/iSynPro/SynPro/Complete Raw data for sorted cells/S6.fa.uniq.tcga.all.csv'\n",
    "\n",
    "#note order of list; low expressors then high espressor datasets\n",
    "path_list = [raws1path, raws3path, raws5path, raws2path, raws4path, raws6path]\n",
    "\n",
    "#read in a csv with a single column, split to divide '# of hits' from nucleotide sequence, filter out sequences with < 5 hits\n",
    "def read_in(filepath):\n",
    "    dfs1 = pd.read_csv(filepath, engine='python', sep=None, header=None, names=['count','sequence'])\n",
    "    dfs2 = dfs1.loc[dfs1['count'] > 9]\n",
    "    return dfs2\n",
    "\n",
    "#clean up read in sequences, remove sequencing artifact\n",
    "def clean_read(raws1path):\n",
    "    p1_raw_df = read_in(raws1path)\n",
    "    #p1_raw_df['sequence'].replace(regex=True,inplace=True,to_replace=r'TCGAGTAGAGTCTAGACTCTACATTTTGACACCCCCA',value=r'')\n",
    "    il2mpseq = 'ACATTTTGACACCCCCATAATATTTTTCCAGAATTAACAGTATAAATTGCATCTCTTGTTCAAGAGTTCCCTATCACTCTCTTTAATCACTACTCACAGTAACCTCAACTCCTG'\n",
    "    p1_raw_df['sequence'] = ['{}{}'.format(s, il2mpseq) for s in p1_raw_df['sequence'].values]\n",
    "    p1_raw_df = p1_raw_df.reset_index()\n",
    "    del p1_raw_df['index']\n",
    "    del p1_raw_df['count']\n",
    "    return p1_raw_df\n",
    "\n",
    "sense_cleanlist = [clean_read(path) for path in path_list]\n",
    "sense_cleanlist[0].head()"
   ]
  },
  {
   "cell_type": "code",
   "execution_count": 8,
   "metadata": {},
   "outputs": [],
   "source": [
    "#extract shared sequences between high and low expressors\n",
    "crosscat_sequences = pd.DataFrame(columns=['sequence'])\n",
    "for i in range(3):\n",
    "    common_tstlst = [sense_cleanlist[i], sense_cleanlist[3], sense_cleanlist[4], sense_cleanlist[5]]\n",
    "    common = functools.reduce(lambda left,right: pd.merge(left,right,on='sequence'), common_tstlst)\n",
    "    crosscat_sequences = pd.concat([crosscat_sequences, common])\n",
    "\n",
    "#remove cross class sequences from each dataset\n",
    "for i in range(len(sense_cleanlist)):\n",
    "    sense_cleanlist[i] = sense_cleanlist[i][(~sense_cleanlist[i].sequence.isin(crosscat_sequences.sequence))]\n",
    "\n",
    "for i in [0,1,3,4]:\n",
    "    linked_common = functools.reduce(lambda left,right: pd.merge(left,right,on='sequence'), \n",
    "                                     [sense_cleanlist[i], sense_cleanlist[i+1]])\n",
    "    sense_cleanlist[i] = sense_cleanlist[i][(~sense_cleanlist[i].sequence.isin(linked_common.sequence))]"
   ]
  },
  {
   "cell_type": "code",
   "execution_count": 9,
   "metadata": {},
   "outputs": [
    {
     "name": "stderr",
     "output_type": "stream",
     "text": [
      "c:\\users\\wolfgang\\anaconda3\\envs\\tensorflow\\lib\\site-packages\\ipykernel_launcher.py:2: SettingWithCopyWarning: \n",
      "A value is trying to be set on a copy of a slice from a DataFrame.\n",
      "Try using .loc[row_indexer,col_indexer] = value instead\n",
      "\n",
      "See the caveats in the documentation: http://pandas.pydata.org/pandas-docs/stable/indexing.html#indexing-view-versus-copy\n",
      "  \n",
      "c:\\users\\wolfgang\\anaconda3\\envs\\tensorflow\\lib\\site-packages\\ipykernel_launcher.py:4: SettingWithCopyWarning: \n",
      "A value is trying to be set on a copy of a slice from a DataFrame.\n",
      "Try using .loc[row_indexer,col_indexer] = value instead\n",
      "\n",
      "See the caveats in the documentation: http://pandas.pydata.org/pandas-docs/stable/indexing.html#indexing-view-versus-copy\n",
      "  after removing the cwd from sys.path.\n"
     ]
    }
   ],
   "source": [
    "for i in range(3):\n",
    "    sense_cleanlist[i]['y'] = 0\n",
    "for i in range(3, 6):\n",
    "    sense_cleanlist[i]['y'] = 1\n",
    "    \n",
    "concat_df = pd.concat([df for df in sense_cleanlist]).reset_index(drop=True)\n",
    "concat_df = concat_df.sample(frac=1).reset_index(drop=True)"
   ]
  },
  {
   "cell_type": "code",
   "execution_count": 10,
   "metadata": {},
   "outputs": [],
   "source": [
    "train, test = train_test_split(concat_df, test_size=0.1, random_state=42)\n",
    "train_path = 'D:/Projects/iSynPro/iSynPro/HilbertCNN/train_val_npys/10count/train_df.csv'\n",
    "test_path = 'D:/Projects/iSynPro/iSynPro/HilbertCNN/train_val_npys/10count/test_df.csv'\n",
    "train.to_csv(train_path)\n",
    "test.to_csv(test_path)"
   ]
  },
  {
   "cell_type": "code",
   "execution_count": null,
   "metadata": {},
   "outputs": [],
   "source": []
  },
  {
   "cell_type": "code",
   "execution_count": null,
   "metadata": {},
   "outputs": [],
   "source": []
  }
 ],
 "metadata": {
  "kernelspec": {
   "display_name": "Python 3",
   "language": "python",
   "name": "python3"
  },
  "language_info": {
   "codemirror_mode": {
    "name": "ipython",
    "version": 3
   },
   "file_extension": ".py",
   "mimetype": "text/x-python",
   "name": "python",
   "nbconvert_exporter": "python",
   "pygments_lexer": "ipython3",
   "version": "3.5.4"
  }
 },
 "nbformat": 4,
 "nbformat_minor": 2
}
