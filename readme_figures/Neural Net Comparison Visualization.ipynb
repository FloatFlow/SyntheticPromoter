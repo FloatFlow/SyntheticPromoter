{
 "cells": [
  {
   "cell_type": "code",
   "execution_count": 1,
   "metadata": {},
   "outputs": [],
   "source": [
    "import pandas as pd\n",
    "import seaborn as sns\n",
    "import matplotlib.pyplot as plt"
   ]
  },
  {
   "cell_type": "code",
   "execution_count": 5,
   "metadata": {},
   "outputs": [],
   "source": [
    "hil1mer = pd.read_csv('D:/Projects/Github/SyntheticPromoter/HilbertCNN/weights/1mer/count6/training_history.csv')\n",
    "hil4mer = pd.read_csv('D:/Projects/Github/SyntheticPromoter/HilbertCNN/weights/4mer/count6/training_history.csv')\n",
    "danqcnn = pd.read_csv('D:/Projects/Github/SyntheticPromoter/DanQCNNLSTM/weights/training_history.csv')\n",
    "embeddingcnn = pd.read_csv('D:/Projects/Github/SyntheticPromoter/EmbeddedSeqCNNLSTM/weights/training_history.csv')"
   ]
  },
  {
   "cell_type": "code",
   "execution_count": 6,
   "metadata": {},
   "outputs": [
    {
     "data": {
      "text/html": [
       "<div>\n",
       "<style scoped>\n",
       "    .dataframe tbody tr th:only-of-type {\n",
       "        vertical-align: middle;\n",
       "    }\n",
       "\n",
       "    .dataframe tbody tr th {\n",
       "        vertical-align: top;\n",
       "    }\n",
       "\n",
       "    .dataframe thead th {\n",
       "        text-align: right;\n",
       "    }\n",
       "</style>\n",
       "<table border=\"1\" class=\"dataframe\">\n",
       "  <thead>\n",
       "    <tr style=\"text-align: right;\">\n",
       "      <th></th>\n",
       "      <th>epoch</th>\n",
       "      <th>binary_accuracy</th>\n",
       "      <th>loss</th>\n",
       "      <th>val_binary_accuracy</th>\n",
       "      <th>val_loss</th>\n",
       "    </tr>\n",
       "  </thead>\n",
       "  <tbody>\n",
       "    <tr>\n",
       "      <th>0</th>\n",
       "      <td>0</td>\n",
       "      <td>0.678458</td>\n",
       "      <td>0.592932</td>\n",
       "      <td>0.694160</td>\n",
       "      <td>0.568855</td>\n",
       "    </tr>\n",
       "    <tr>\n",
       "      <th>1</th>\n",
       "      <td>1</td>\n",
       "      <td>0.711188</td>\n",
       "      <td>0.550261</td>\n",
       "      <td>0.720474</td>\n",
       "      <td>0.531590</td>\n",
       "    </tr>\n",
       "    <tr>\n",
       "      <th>2</th>\n",
       "      <td>2</td>\n",
       "      <td>0.719497</td>\n",
       "      <td>0.540925</td>\n",
       "      <td>0.711191</td>\n",
       "      <td>0.539952</td>\n",
       "    </tr>\n",
       "    <tr>\n",
       "      <th>3</th>\n",
       "      <td>3</td>\n",
       "      <td>0.725871</td>\n",
       "      <td>0.530708</td>\n",
       "      <td>0.723569</td>\n",
       "      <td>0.538699</td>\n",
       "    </tr>\n",
       "    <tr>\n",
       "      <th>4</th>\n",
       "      <td>4</td>\n",
       "      <td>0.727521</td>\n",
       "      <td>0.523046</td>\n",
       "      <td>0.724085</td>\n",
       "      <td>0.526380</td>\n",
       "    </tr>\n",
       "  </tbody>\n",
       "</table>\n",
       "</div>"
      ],
      "text/plain": [
       "   epoch  binary_accuracy      loss  val_binary_accuracy  val_loss\n",
       "0      0         0.678458  0.592932             0.694160  0.568855\n",
       "1      1         0.711188  0.550261             0.720474  0.531590\n",
       "2      2         0.719497  0.540925             0.711191  0.539952\n",
       "3      3         0.725871  0.530708             0.723569  0.538699\n",
       "4      4         0.727521  0.523046             0.724085  0.526380"
      ]
     },
     "execution_count": 6,
     "metadata": {},
     "output_type": "execute_result"
    }
   ],
   "source": [
    "hil1mer.head()"
   ]
  },
  {
   "cell_type": "code",
   "execution_count": 9,
   "metadata": {},
   "outputs": [
    {
     "data": {
      "text/html": [
       "<div>\n",
       "<style scoped>\n",
       "    .dataframe tbody tr th:only-of-type {\n",
       "        vertical-align: middle;\n",
       "    }\n",
       "\n",
       "    .dataframe tbody tr th {\n",
       "        vertical-align: top;\n",
       "    }\n",
       "\n",
       "    .dataframe thead th {\n",
       "        text-align: right;\n",
       "    }\n",
       "</style>\n",
       "<table border=\"1\" class=\"dataframe\">\n",
       "  <thead>\n",
       "    <tr style=\"text-align: right;\">\n",
       "      <th></th>\n",
       "      <th>Max Validation Accuracy</th>\n",
       "      <th>Neural Net Architecture</th>\n",
       "    </tr>\n",
       "  </thead>\n",
       "  <tbody>\n",
       "    <tr>\n",
       "      <th>0</th>\n",
       "      <td>0.711901</td>\n",
       "      <td>One-hot CNN-LSTM</td>\n",
       "    </tr>\n",
       "    <tr>\n",
       "      <th>1</th>\n",
       "      <td>0.733441</td>\n",
       "      <td>Embedded CNN-LSTM</td>\n",
       "    </tr>\n",
       "    <tr>\n",
       "      <th>2</th>\n",
       "      <td>0.753997</td>\n",
       "      <td>1mer Hilbert CNN</td>\n",
       "    </tr>\n",
       "    <tr>\n",
       "      <th>3</th>\n",
       "      <td>0.752450</td>\n",
       "      <td>4mer Hilbert CNN</td>\n",
       "    </tr>\n",
       "  </tbody>\n",
       "</table>\n",
       "</div>"
      ],
      "text/plain": [
       "   Max Validation Accuracy Neural Net Architecture\n",
       "0                 0.711901        One-hot CNN-LSTM\n",
       "1                 0.733441       Embedded CNN-LSTM\n",
       "2                 0.753997        1mer Hilbert CNN\n",
       "3                 0.752450        4mer Hilbert CNN"
      ]
     },
     "execution_count": 9,
     "metadata": {},
     "output_type": "execute_result"
    }
   ],
   "source": [
    "comp_df = pd.DataFrame({'Neural Net Architecture':['One-hot CNN-LSTM', 'Embedded CNN-LSTM', '1mer Hilbert CNN', '4mer Hilbert CNN'],\n",
    "                        'Max Validation Accuracy':[danqcnn['val_binary_accuracy'].max(),\n",
    "                                                   embeddingcnn['val_binary_accuracy'].max(),\n",
    "                                                   hil1mer['val_binary_accuracy'].max(),\n",
    "                                                   hil4mer['val_binary_accuracy'].max()]})\n",
    "comp_df.head()"
   ]
  },
  {
   "cell_type": "code",
   "execution_count": 16,
   "metadata": {},
   "outputs": [
    {
     "data": {
      "image/png": "[encoded data removed]",
      "text/plain": [
       "<matplotlib.figure.Figure at 0x2ca0bbaddd8>"
      ]
     },
     "metadata": {},
     "output_type": "display_data"
    }
   ],
   "source": [
    "g = sns.barplot(x='Neural Net Architecture', y='Max Validation Accuracy', data=comp_df)\n",
    "g.set_xticklabels(g.get_xticklabels(), rotation=30)\n",
    "g.set_title('Effect of Neural Net Architecture on Validation Accuracy')\n",
    "fig = g.get_figure()\n",
    "fig.savefig('D:/projects/github/syntheticpromoter/nn_comparison.png', bbox_inches='tight')\n",
    "plt.show()"
   ]
  },
  {
   "cell_type": "code",
   "execution_count": null,
   "metadata": {},
   "outputs": [],
   "source": []
  }
 ],
 "metadata": {
  "kernelspec": {
   "display_name": "Python 3",
   "language": "python",
   "name": "python3"
  },
  "language_info": {
   "codemirror_mode": {
    "name": "ipython",
    "version": 3
   },
   "file_extension": ".py",
   "mimetype": "text/x-python",
   "name": "python",
   "nbconvert_exporter": "python",
   "pygments_lexer": "ipython3",
   "version": "3.5.4"
  }
 },
 "nbformat": 4,
 "nbformat_minor": 2
}
