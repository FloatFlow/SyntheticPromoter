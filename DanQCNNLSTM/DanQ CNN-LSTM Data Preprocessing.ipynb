{
 "cells": [
  {
   "cell_type": "code",
   "execution_count": 10,
   "metadata": {},
   "outputs": [],
   "source": [
    "#Boilerplate imports\n",
    "import pandas as pd\n",
    "import numpy as np\n",
    "import random\n",
    "import scipy\n",
    "import itertools\n",
    "from collections import Counter\n",
    "from collections import defaultdict\n",
    "import functools\n",
    "import math\n",
    "from sklearn.model_selection import train_test_split"
   ]
  },
  {
   "cell_type": "code",
   "execution_count": 2,
   "metadata": {},
   "outputs": [
    {
     "data": {
      "text/html": [
       "<div>\n",
       "<style scoped>\n",
       "    .dataframe tbody tr th:only-of-type {\n",
       "        vertical-align: middle;\n",
       "    }\n",
       "\n",
       "    .dataframe tbody tr th {\n",
       "        vertical-align: top;\n",
       "    }\n",
       "\n",
       "    .dataframe thead th {\n",
       "        text-align: right;\n",
       "    }\n",
       "</style>\n",
       "<table border=\"1\" class=\"dataframe\">\n",
       "  <thead>\n",
       "    <tr style=\"text-align: right;\">\n",
       "      <th></th>\n",
       "      <th>sequence</th>\n",
       "    </tr>\n",
       "  </thead>\n",
       "  <tbody>\n",
       "    <tr>\n",
       "      <th>0</th>\n",
       "      <td>TCGATCTCCGCCCCCTCTTCGAAGATCAAAGGGTCGAGGGGACTTT...</td>\n",
       "    </tr>\n",
       "    <tr>\n",
       "      <th>1</th>\n",
       "      <td>TCGAATGAGTCACATCGAAGATCAAAGGGTCGACCCTTTGATCTTC...</td>\n",
       "    </tr>\n",
       "    <tr>\n",
       "      <th>2</th>\n",
       "      <td>TCGAGGGGACTTTCCTCGAGGGGGCGGGGTCGATTTGGCGCTCGAT...</td>\n",
       "    </tr>\n",
       "    <tr>\n",
       "      <th>3</th>\n",
       "      <td>TCGATTTCCAAGAAATCGAGGAAAGTCCCCTCGACCCTTTGATCTT...</td>\n",
       "    </tr>\n",
       "    <tr>\n",
       "      <th>4</th>\n",
       "      <td>TCGAATGACATCATCTTTCGAAGATCAAAGGGTCGAGGGGACTTTC...</td>\n",
       "    </tr>\n",
       "  </tbody>\n",
       "</table>\n",
       "</div>"
      ],
      "text/plain": [
       "                                            sequence\n",
       "0  TCGATCTCCGCCCCCTCTTCGAAGATCAAAGGGTCGAGGGGACTTT...\n",
       "1  TCGAATGAGTCACATCGAAGATCAAAGGGTCGACCCTTTGATCTTC...\n",
       "2  TCGAGGGGACTTTCCTCGAGGGGGCGGGGTCGATTTGGCGCTCGAT...\n",
       "3  TCGATTTCCAAGAAATCGAGGAAAGTCCCCTCGACCCTTTGATCTT...\n",
       "4  TCGAATGACATCATCTTTCGAAGATCAAAGGGTCGAGGGGACTTTC..."
      ]
     },
     "execution_count": 2,
     "metadata": {},
     "output_type": "execute_result"
    }
   ],
   "source": [
    "##Import data\n",
    "\n",
    "#file paths\n",
    "#low expression population\n",
    "raws1path = 'D:/Projects/iSynPro/SynPro/Complete Raw data for sorted cells/S1.fa.uniq.tcga.all.csv'\n",
    "raws3path = 'D:/Projects/iSynPro/SynPro/Complete Raw data for sorted cells/S3.fa.uniq.tcga.all.csv'\n",
    "raws5path = 'D:/Projects/iSynPro/SynPro/Complete Raw data for sorted cells/S5.fa.uniq.tcga.all.csv'\n",
    "#high expression population\n",
    "raws2path = 'D:/Projects/iSynPro/SynPro/Complete Raw data for sorted cells/S2.fa.uniq.tcga.all.csv'\n",
    "raws4path = 'D:/Projects/iSynPro/SynPro/Complete Raw data for sorted cells/S4.fa.uniq.tcga.all.csv'\n",
    "raws6path = 'D:/Projects/iSynPro/SynPro/Complete Raw data for sorted cells/S6.fa.uniq.tcga.all.csv'\n",
    "\n",
    "#note order of list; low expressors then high espressor datasets\n",
    "path_list = [raws1path, raws3path, raws5path, raws2path, raws4path, raws6path]\n",
    "\n",
    "#read in a csv with a single column, split to divide '# of hits' from nucleotide sequence, filter out sequences with < 5 hits\n",
    "def read_in(filepath):\n",
    "    dfs1 = pd.read_csv(filepath, engine='python', sep=None, header=None, names=['count','sequence'])\n",
    "    dfs2 = dfs1.loc[dfs1['count'] > 5]\n",
    "    return dfs2\n",
    "\n",
    "#clean up read in sequences, remove sequencing artifact\n",
    "def clean_read(raws1path):\n",
    "    p1_raw_df = read_in(raws1path)\n",
    "    #p1_raw_df['sequence'].replace(regex=True,inplace=True,to_replace=r'TCGAGTAGAGTCTAGACTCTACATTTTGACACCCCCA',value=r'')\n",
    "    il2mpseq = 'ACATTTTGACACCCCCATAATATTTTTCCAGAATTAACAGTATAAATTGCATCTCTTGTTCAAGAGTTCCCTATCACTCTCTTTAATCACTACTCACAGTAACCTCAACTCCTG'\n",
    "    p1_raw_df['sequence'] = ['{}{}'.format(s, il2mpseq) for s in p1_raw_df['sequence'].values]\n",
    "    p1_raw_df = p1_raw_df.reset_index()\n",
    "    del p1_raw_df['index']\n",
    "    del p1_raw_df['count']\n",
    "    return p1_raw_df\n",
    "\n",
    "sense_cleanlist = [clean_read(path) for path in path_list]\n",
    "sense_cleanlist[0].head()"
   ]
  },
  {
   "cell_type": "code",
   "execution_count": 3,
   "metadata": {},
   "outputs": [],
   "source": [
    "#extract shared sequences between high and low expressors\n",
    "crosscat_sequences = pd.DataFrame(columns=['sequence'])\n",
    "for i in range(3):\n",
    "    common_tstlst = [sense_cleanlist[i], sense_cleanlist[3], sense_cleanlist[4], sense_cleanlist[5]]\n",
    "    common = functools.reduce(lambda left,right: pd.merge(left,right,on='sequence'), common_tstlst)\n",
    "    crosscat_sequences = pd.concat([crosscat_sequences, common])\n",
    "\n",
    "#remove cross class sequences from each dataset\n",
    "for i in range(len(sense_cleanlist)):\n",
    "    sense_cleanlist[i] = sense_cleanlist[i][(~sense_cleanlist[i].sequence.isin(crosscat_sequences.sequence))]\n",
    "\n",
    "for i in [0,1,3,4]:\n",
    "    linked_common = functools.reduce(lambda left,right: pd.merge(left,right,on='sequence'), \n",
    "                                     [sense_cleanlist[i], sense_cleanlist[i+1]])\n",
    "    sense_cleanlist[i] = sense_cleanlist[i][(~sense_cleanlist[i].sequence.isin(linked_common.sequence))]"
   ]
  },
  {
   "cell_type": "code",
   "execution_count": 4,
   "metadata": {},
   "outputs": [
    {
     "name": "stderr",
     "output_type": "stream",
     "text": [
      "c:\\users\\wolfgang\\anaconda3\\envs\\tensorflow\\lib\\site-packages\\ipykernel_launcher.py:3: SettingWithCopyWarning: \n",
      "A value is trying to be set on a copy of a slice from a DataFrame.\n",
      "Try using .loc[row_indexer,col_indexer] = value instead\n",
      "\n",
      "See the caveats in the documentation: http://pandas.pydata.org/pandas-docs/stable/indexing.html#indexing-view-versus-copy\n",
      "  This is separate from the ipykernel package so we can avoid doing imports until\n"
     ]
    }
   ],
   "source": [
    "#This function encodes each base into a 4 digit binary code\n",
    "def one_hot_coder(df): \n",
    "    df['sequence'] = [list(seq) for seq in df['sequence'].values]\n",
    "    ltrdict = {'A':[1,0,0,0],'G':[0,1,0,0],'C':[0,0,1,0],'T':[0,0,0,1], 'N':[0,0,0,0]}\n",
    "    for seq in df['sequence']:\n",
    "        for i, e in enumerate(seq):\n",
    "            if e in ltrdict:\n",
    "                seq[i] = ltrdict[e]\n",
    "    return list(df['sequence'].values)\n",
    "\n",
    "#list of datasets with sequences converted into one-hot format\n",
    "hot_list = [one_hot_coder(df) for df in sense_cleanlist]"
   ]
  },
  {
   "cell_type": "code",
   "execution_count": 5,
   "metadata": {},
   "outputs": [
    {
     "data": {
      "text/html": [
       "<div>\n",
       "<style scoped>\n",
       "    .dataframe tbody tr th:only-of-type {\n",
       "        vertical-align: middle;\n",
       "    }\n",
       "\n",
       "    .dataframe tbody tr th {\n",
       "        vertical-align: top;\n",
       "    }\n",
       "\n",
       "    .dataframe thead th {\n",
       "        text-align: right;\n",
       "    }\n",
       "</style>\n",
       "<table border=\"1\" class=\"dataframe\">\n",
       "  <thead>\n",
       "    <tr style=\"text-align: right;\">\n",
       "      <th></th>\n",
       "      <th>lentoadd</th>\n",
       "      <th>frontadd</th>\n",
       "      <th>backadd</th>\n",
       "    </tr>\n",
       "  </thead>\n",
       "  <tbody>\n",
       "    <tr>\n",
       "      <th>0</th>\n",
       "      <td>151</td>\n",
       "      <td>151</td>\n",
       "      <td>20</td>\n",
       "    </tr>\n",
       "    <tr>\n",
       "      <th>1</th>\n",
       "      <td>305</td>\n",
       "      <td>305</td>\n",
       "      <td>20</td>\n",
       "    </tr>\n",
       "    <tr>\n",
       "      <th>2</th>\n",
       "      <td>277</td>\n",
       "      <td>277</td>\n",
       "      <td>20</td>\n",
       "    </tr>\n",
       "    <tr>\n",
       "      <th>3</th>\n",
       "      <td>285</td>\n",
       "      <td>285</td>\n",
       "      <td>20</td>\n",
       "    </tr>\n",
       "    <tr>\n",
       "      <th>4</th>\n",
       "      <td>320</td>\n",
       "      <td>320</td>\n",
       "      <td>20</td>\n",
       "    </tr>\n",
       "  </tbody>\n",
       "</table>\n",
       "</div>"
      ],
      "text/plain": [
       "   lentoadd  frontadd  backadd\n",
       "0       151       151       20\n",
       "1       305       305       20\n",
       "2       277       277       20\n",
       "3       285       285       20\n",
       "4       320       320       20"
      ]
     },
     "execution_count": 5,
     "metadata": {},
     "output_type": "execute_result"
    }
   ],
   "source": [
    "#Find the max seq length between all datasets (in terms of # of bases)\n",
    "seqlen_list = [[len(seq) for seq in hot] for hot in hot_list]\n",
    "max_seq = max([max(hot) for hot in seqlen_list]) + 1\n",
    "backpad = 20\n",
    "\n",
    "#create a df that randomly splits the difference between current seq length and max seq length (to add to front and back of seq)\n",
    "def create_add_df(seqlen_lst):\n",
    "    add_df = pd.DataFrame()\n",
    "    add_df['lentoadd'] = [(max_seq - seql) for seql in seqlen_lst]\n",
    "    add_df['frontadd'] = [random.randrange(0, n) for n in add_df['lentoadd']]\n",
    "    add_df['backadd'] = add_df['lentoadd'] - add_df['frontadd']\n",
    "    return add_df\n",
    "\n",
    "#create a df that adds variable padding to only the front of sequences. same format to fit into pipeline\n",
    "#we add a static pad to the end of the sequences for easy retrieval of saliency at the end of the pipeline\n",
    "def front_add_df(seqlen_lst):\n",
    "    add_df = pd.DataFrame()\n",
    "    add_df['lentoadd'] = [(max_seq - seql) for seql in seqlen_lst]\n",
    "    add_df['frontadd'] = add_df['lentoadd']\n",
    "    add_df['backadd'] = backpad\n",
    "    return add_df\n",
    "\n",
    "add_dfs = [front_add_df(seqlen) for seqlen in seqlen_list]\n",
    "add_dfs[0].head()"
   ]
  },
  {
   "cell_type": "code",
   "execution_count": 6,
   "metadata": {},
   "outputs": [
    {
     "name": "stdout",
     "output_type": "stream",
     "text": [
      "672\n"
     ]
    }
   ],
   "source": [
    "#this pads the sequences with empty data (e.g. [0,0,0,0]) such that all sequences are the same length now\n",
    "def one_hot_equalizer(flat_lst, add_df):\n",
    "    equalized = []\n",
    "    for i, l in enumerate(flat_lst):\n",
    "        equalized.append(int(add_df['frontadd'][i])*[[0,0,0,0]] + l + int(add_df['backadd'][i])*[[0,0,0,0]])\n",
    "    return equalized\n",
    "\n",
    "#list of datasets with padded sequences\n",
    "hotpad_list = [one_hot_equalizer(hot, add_dfs[i]) for i, hot in enumerate(hot_list)]\n",
    "print(len(hotpad_list[0][0]))"
   ]
  },
  {
   "cell_type": "code",
   "execution_count": 7,
   "metadata": {},
   "outputs": [],
   "source": [
    "#transpose each sequence such that a sequence is a 1D list with 4 channels (not a list of 4 channels @ each position)\n",
    "channeled_hotlists = [[np.transpose(np.array(seq)).tolist() for seq in pad] for pad in hotpad_list]"
   ]
  },
  {
   "cell_type": "code",
   "execution_count": 12,
   "metadata": {},
   "outputs": [],
   "source": [
    "#final features and labels\n",
    "y = list([0]*(len(channeled_hotlists[0]) + len(channeled_hotlists[1]) + len(channeled_hotlists[2])) \n",
    "             + [1]*(len(channeled_hotlists[3]) + len(channeled_hotlists[4]) + len(channeled_hotlists[5])))\n",
    "\n",
    "#use this instead to transform labels into multi-class\n",
    "#label_dict ={0:[0,1],1:[1,0]}\n",
    "#y_hot = []\n",
    "#for i, n in enumerate(y):\n",
    "#    if n in label_dict:\n",
    "#        y[i] = label_dict[n]\n",
    "y = np.array(y)\n",
    "\n",
    "x = np.array([item for sublist in channeled_hotlists for item in sublist])\n",
    "\n",
    "#randomly split and shuffle into training and test sets. \n",
    "#Note our test set is for auc/roc calculations, not for validation during training\n",
    "x_train, x_test, y_train, y_test = train_test_split(x, y, test_size=0.05, random_state=16)\n",
    "\n",
    "x_train = np.transpose(x_train, axes=(0, 2, 1))\n",
    "x_test = np.transpose(x_test, axes=(0, 2, 1))\n",
    "\n",
    "#y_train = np.transpose(y_train, axes=(1,0))\n",
    "#y_test = np.transpose(y_train, axes=(1,0))\n",
    "\n",
    "root_savepath = 'D:/Projects/iSynPro/iSynPro/DanQCNNLSTM'\n",
    "save_files = [x_train, y_train, x_test, y_test]\n",
    "save_names = ['x_train', 'y_train', 'x_test', 'y_test']\n",
    "for i in range(len(save_files)):\n",
    "    np.save('{}/{}.npy'.format(root_savepath, save_names[i]), save_files[i])\n"
   ]
  },
  {
   "cell_type": "code",
   "execution_count": null,
   "metadata": {},
   "outputs": [],
   "source": []
  }
 ],
 "metadata": {
  "kernelspec": {
   "display_name": "Python 3",
   "language": "python",
   "name": "python3"
  },
  "language_info": {
   "codemirror_mode": {
    "name": "ipython",
    "version": 3
   },
   "file_extension": ".py",
   "mimetype": "text/x-python",
   "name": "python",
   "nbconvert_exporter": "python",
   "pygments_lexer": "ipython3",
   "version": "3.5.4"
  }
 },
 "nbformat": 4,
 "nbformat_minor": 2
}
